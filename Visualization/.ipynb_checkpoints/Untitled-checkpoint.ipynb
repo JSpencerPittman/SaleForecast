{
 "cells": [
  {
   "cell_type": "code",
   "execution_count": null,
   "id": "0ba7237d-1b1b-4b04-ab0d-0eaaab6392bf",
   "metadata": {},
   "outputs": [],
   "source": [
    "EXPLANATION_FILE = \"Explanation.txt\"\n",
    "\n",
    "def explain_data(dataset, datasetName):\n",
    "    with open(EXPLANATION_FILE, \"a\") as outputFile:\n",
    "        # Name\n",
    "        print(datasetName, file=outputFile)\n",
    "        # Size\n",
    "        print(\"No. of Training Examples: \", dataset.shape[0], file=outputFile)\n",
    "        print(\"No. of Features : \", dataset.shape[1], file=outputFile)\n",
    "        # Features and corresponding types\n",
    "        for feat, dtype in zip(dataset.columns, dataset.dtypes):\n",
    "            print(\"Feature: \", feat, \"\\nType: \", dtype, file=outputFile)\n",
    "            if pd.api.types.is_numeric_dtype(dtype) and dtype != bool:\n",
    "                print(\"\\tMean: \", dataset[feat].mean(), file=outputFile)\n",
    "                print(\"\\tStd: \", dataset[feat].std(), file=outputFile)\n",
    "                print(\"\\tMax: \", dataset[feat].max(), file=outputFile)\n",
    "                print(\"\\tMin: \", dataset[feat].min(), file=outputFile)\n",
    "                print(\"\\tMedian: \", dataset[feat].median(), file=outputFile)\n",
    "                print(\"\\t10%: \", dataset[feat].quantile(0.1), file=outputFile)\n",
    "                print(\"\\t25%: \", dataset[feat].quantile(0.25), file=outputFile)\n",
    "                print(\"\\t75%: \", dataset[feat].quantile(0.75), file=outputFile)\n",
    "                print(\"\\t90%: \", dataset[feat].quantile(0.9), file=outputFile)\n",
    "        print('\\n\\n', file=outputFile)\n",
    "        \n",
    "def clear_explanation_file():\n",
    "    with open(EXPLANATION_FILE, \"w\") as outputFile:\n",
    "        print('', file=outputFile)"
   ]
  },
  {
   "cell_type": "code",
   "execution_count": null,
   "id": "c6e83d98-7350-4949-8361-52f8cafdad59",
   "metadata": {},
   "outputs": [],
   "source": [
    "clear_explanation_file()\n",
    "explain_data(train_ds, \"Train\")\n",
    "explain_data(holiday_ds, \"Holiday\")\n",
    "explain_data(oil_ds, \"Oil\")\n",
    "explain_data(stores_ds, \"Store\")\n",
    "explain_data(transactions_ds, \"Transactions\")"
   ]
  }
 ],
 "metadata": {
  "kernelspec": {
   "display_name": "Python 3 (ipykernel)",
   "language": "python",
   "name": "python3"
  },
  "language_info": {
   "codemirror_mode": {
    "name": "ipython",
    "version": 3
   },
   "file_extension": ".py",
   "mimetype": "text/x-python",
   "name": "python",
   "nbconvert_exporter": "python",
   "pygments_lexer": "ipython3",
   "version": "3.8.9"
  }
 },
 "nbformat": 4,
 "nbformat_minor": 5
}
